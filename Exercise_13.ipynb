{
  "nbformat": 4,
  "nbformat_minor": 0,
  "metadata": {
    "colab": {
      "provenance": []
    },
    "kernelspec": {
      "name": "python3",
      "display_name": "Python 3"
    },
    "language_info": {
      "name": "python"
    }
  },
  "cells": [
    {
      "cell_type": "code",
      "execution_count": 1,
      "metadata": {
        "colab": {
          "base_uri": "https://localhost:8080/"
        },
        "id": "aXe3f2YBpo_H",
        "outputId": "004cb327-d7f9-42a5-a1b8-78fdd0ba59de"
      },
      "outputs": [
        {
          "output_type": "stream",
          "name": "stdout",
          "text": [
            "Hello world!\n"
          ]
        }
      ],
      "source": [
        "print(\"Hello world!\")"
      ]
    },
    {
      "cell_type": "code",
      "source": [],
      "metadata": {
        "id": "2jd5-OSMt6dm"
      },
      "execution_count": null,
      "outputs": []
    },
    {
      "cell_type": "markdown",
      "source": [
        "## This is an example markdown cell with the title of the notebook"
      ],
      "metadata": {
        "id": "QdNaJs5pt6FF"
      }
    },
    {
      "cell_type": "code",
      "source": [],
      "metadata": {
        "id": "pSsXj-aSqBEj"
      },
      "execution_count": null,
      "outputs": []
    },
    {
      "cell_type": "markdown",
      "source": [
        "This is an example markdown cell for an introduction.\n"
      ],
      "metadata": {
        "id": "OOHgreBprcgA"
      }
    },
    {
      "cell_type": "code",
      "source": [],
      "metadata": {
        "id": "4zx6ySSTrdVG"
      },
      "execution_count": null,
      "outputs": []
    },
    {
      "cell_type": "markdown",
      "source": [
        "## Data Science Languages\n",
        "\n",
        "* Python\n",
        "* R\n",
        "* Julia\n",
        "* Scala\n",
        "* SQL"
      ],
      "metadata": {
        "id": "dKd5DXgNsKyS"
      }
    },
    {
      "cell_type": "code",
      "source": [],
      "metadata": {
        "id": "Zq_eYHAhsLTK"
      },
      "execution_count": null,
      "outputs": []
    },
    {
      "cell_type": "markdown",
      "source": [
        "# Data Science Libraries (Python)\n",
        "\n",
        "* NumPy (Numerical computing)\n",
        "* Pandas (Data manipulation and analysis)\n",
        "* Matplotlib (Data visualization)\n",
        "* Scikit-learn (Machine learning)\n",
        "* TensorFlow (Deep learning)"
      ],
      "metadata": {
        "id": "BRiE5jGKsiH3"
      }
    },
    {
      "cell_type": "code",
      "source": [],
      "metadata": {
        "id": "Hk9F2lfcsi2A"
      },
      "execution_count": null,
      "outputs": []
    },
    {
      "cell_type": "markdown",
      "source": [
        "# Data Science Tools\n",
        "\n",
        "| Category | Tool Name | Description |\n",
        "|---|---|---|\n",
        "| Programming Languages | Python | General-purpose language popular for data science |\n",
        "| Data Manipulation | Pandas | Powerful library for data cleaning, analysis, and transformation |\n",
        "| Data Visualization | Matplotlib | Flexible library for creating various plots and charts |\n",
        "| Machine Learning | Scikit-learn | Comprehensive library for machine learning algorithms |\n",
        "| Deep Learning | TensorFlow | Framework for building and deploying deep learning models |"
      ],
      "metadata": {
        "id": "NHV4vj3es2uH"
      }
    },
    {
      "cell_type": "code",
      "source": [],
      "metadata": {
        "id": "2R2P-k4Os5Ut"
      },
      "execution_count": null,
      "outputs": []
    },
    {
      "cell_type": "markdown",
      "source": [
        "## Arithmetic Expressions\n",
        "\n",
        "This section covers basic arithmetic operations like addition, subtraction, multiplication, and division."
      ],
      "metadata": {
        "id": "cx5Kb_nfvLUu"
      }
    },
    {
      "cell_type": "code",
      "source": [],
      "metadata": {
        "id": "pS-9WxY0vLtO"
      },
      "execution_count": null,
      "outputs": []
    },
    {
      "cell_type": "code",
      "source": [
        "# Multiply two numbers\n",
        "result = 5 * 5\n",
        "print(result)\n",
        "\n",
        "# Add two numbers\n",
        "sum = 10 + 4\n",
        "print(sum)"
      ],
      "metadata": {
        "colab": {
          "base_uri": "https://localhost:8080/"
        },
        "id": "a7PNd3xbvQCW",
        "outputId": "4d2adf8a-22ae-477f-e325-ee61a2aed196"
      },
      "execution_count": 2,
      "outputs": [
        {
          "output_type": "stream",
          "name": "stdout",
          "text": [
            "25\n",
            "14\n"
          ]
        }
      ]
    },
    {
      "cell_type": "code",
      "source": [],
      "metadata": {
        "id": "FvT3Q3A5vRnb"
      },
      "execution_count": null,
      "outputs": []
    },
    {
      "cell_type": "code",
      "source": [
        "# Convert minutes to hours\n",
        "mins = 60\n",
        "hours = mins / 60\n",
        "print(f\"{mins} minutes is equal to {hours} hours\")"
      ],
      "metadata": {
        "colab": {
          "base_uri": "https://localhost:8080/"
        },
        "id": "1rj-IjIDvx_u",
        "outputId": "0036db20-b607-4cde-ba3b-6d54faeba869"
      },
      "execution_count": 3,
      "outputs": [
        {
          "output_type": "stream",
          "name": "stdout",
          "text": [
            "60 minutes is equal to 1.0 hours\n"
          ]
        }
      ]
    },
    {
      "cell_type": "code",
      "source": [],
      "metadata": {
        "id": "qPVXhAOev2cJ"
      },
      "execution_count": null,
      "outputs": []
    },
    {
      "cell_type": "markdown",
      "source": [
        "## Objectives\n",
        "\n",
        "* Understand the core concepts of data science languages and libraries.\n",
        "* Perform basic arithmetic operations using code.\n",
        "* Convert units using Python code."
      ],
      "metadata": {
        "id": "dSUlbcoGv_6u"
      }
    },
    {
      "cell_type": "code",
      "source": [],
      "metadata": {
        "id": "xcISC9MqwDSp"
      },
      "execution_count": null,
      "outputs": []
    },
    {
      "cell_type": "markdown",
      "source": [
        "## Author\n",
        "\n",
        "This notebook was created by [Bao Huynh] on 24/5/2024."
      ],
      "metadata": {
        "id": "NZLN32WzwWTO"
      }
    },
    {
      "cell_type": "code",
      "source": [],
      "metadata": {
        "id": "H3ob8Snvwgkg"
      },
      "execution_count": null,
      "outputs": []
    }
  ]
}